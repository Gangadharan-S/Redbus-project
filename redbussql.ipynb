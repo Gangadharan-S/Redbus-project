{
 "cells": [
  {
   "cell_type": "code",
   "execution_count": 21,
   "id": "5830cfe7-deba-4ff2-9a28-52d88365febf",
   "metadata": {},
   "outputs": [],
   "source": [
    "import pandas as pd\n",
    "\n",
    "df = pd.read_csv(\"APsrtc_bus_details1.csv\")\n",
    "df = pd.read_csv(\"Astc_bus_details.csv\")\n",
    "df = pd.read_csv(\"Bsrtc_bus_details.csv\")\n",
    "df = pd.read_csv(\"Hrtc_bus_details.csv\")\n",
    "df = pd.read_csv(\"ksrtc_bus_details1.csv\")\n",
    "df = pd.read_csv(\"Rsrtc_bus_details.csv\")\n",
    "df = pd.read_csv(\"SBsrtc_bus_details.csv\")\n",
    "df = pd.read_csv(\"Tsrtc_bus_details.csv\")\n",
    "df = pd.read_csv(\"UPsrtc_bus_details.csv\")\n",
    "df = pd.read_csv(\"WBtc_bus_details.csv\")\n",
    "df = pd.read_csv(\"Psrtc_bus_details.csv\")\n",
    "df = pd.read_csv(\"CTU_bus_details.csv\")\n",
    "\n",
    "# List of CSV file paths and corresponding state names\n",
    "csv_files = {\n",
    "    \"APsrtc_bus_details1.csv\": \"Andhra Pradesh\",\n",
    "    \"Astc_bus_details.csv\": \"Assam\",\n",
    "    \"Bsrtc_bus_details.csv\": \"Bihar\",\n",
    "    \"Hrtc_bus_details.csv\": \"Himachal Pradesh\",\n",
    "    \"ksrtc_bus_details1.csv\": \"Kerala\",\n",
    "    \"Rsrtc_bus_details.csv\": \"Rajasthan\",\n",
    "    \"SBsrtc_bus_details.csv\": \"South Bengal\",\n",
    "    \"Tsrtc_bus_details.csv\": \"Telangana\",\n",
    "    \"UPsrtc_bus_details.csv\": \"Uttar Pradesh\",\n",
    "    \"WBtc_bus_details.csv\": \"West Bengal\",\n",
    "    \"Psrtc_bus_details.csv\": \"Punjab\",\n",
    "    \"CTU_bus_details.csv\": \"Chandigarh\"\n",
    "}\n",
    "\n",
    "# Read each CSV file into a DataFrame, add the new column, and store it in a list\n",
    "dfs = []\n",
    "for file, state in csv_files.items():\n",
    "    df = pd.read_csv(file)\n",
    "    df['states'] = state\n",
    "    dfs.append(df)\n",
    "\n",
    "# Concatenate all DataFrames in the list\n",
    "combined_df = pd.concat(dfs, ignore_index=True)\n",
    "\n",
    "# Save the updated combined DataFrame to a new CSV file\n",
    "combined_df.to_csv(\"RB_bus_details1.csv\", index=False)"
   ]
  },
  {
   "cell_type": "code",
   "execution_count": 7,
   "id": "bfe8a292-9af0-4564-a1b8-12beade5cedd",
   "metadata": {},
   "outputs": [
    {
     "name": "stdout",
     "output_type": "stream",
     "text": [
      "CSV data loaded successfully!\n",
      "CSV Columns: ['Route_Name', 'Route_Link', 'Bus_Name', 'Bus_Type', 'Departing_Time', 'Duration', 'Reaching_Time', 'Star_Rating', 'Price', 'Seat_Availability', 'states']\n",
      "Connected to MySQL database.\n",
      "Table `bus_routes` created successfully!\n",
      "Data inserted successfully into `redbus.Bus_routes`.\n"
     ]
    }
   ],
   "source": [
    "import pandas as pd\n",
    "import pymysql\n",
    "\n",
    "# Database connection details\n",
    "DB_HOST = 'localhost'\n",
    "DB_USER = 'root'\n",
    "DB_PASSWORD = 'Abcd1234'\n",
    "DB_NAME = 'redbus'\n",
    "\n",
    "# CSV file path\n",
    "CSV_FILE = 'RB_bus_details1.csv'\n",
    "\n",
    "def load_data_to_mysql():\n",
    "    # Load and clean CSV data\n",
    "    try:\n",
    "        df = pd.read_csv(CSV_FILE)\n",
    "        print(\"CSV data loaded successfully!\")\n",
    "        print(\"CSV Columns:\", df.columns.tolist())  # Debugging step\n",
    "        \n",
    "        # Correct column names\n",
    "        df.rename(columns={'Bus_Name': 'BusName', 'Bus_Type': 'BusType'}, inplace=True)\n",
    "\n",
    "        # Fill missing values for BusName and BusType\n",
    "        \n",
    "        df['BusName'] = df['BusName'].fillna(\"Unknown\")\n",
    "        df['BusType'] = df['BusType'].fillna(\"Unknown\")\n",
    "\n",
    "        \n",
    "        # Clean other data\n",
    "        df['Seat_Availability'] = df['Seat_Availability'].str.extract(r'(\\d+)').astype(float)\n",
    "        df['Star_Rating'] = pd.to_numeric(df['Star_Rating'], errors='coerce')\n",
    "        df['Price'] = pd.to_numeric(df['Price'], errors='coerce')\n",
    "        df.fillna({'Seat_Availability': 0, 'Star_Rating': 0, 'Price': 0}, inplace=True)\n",
    "        df = df.replace({pd.NA: None, pd.NaT: None})  # Replace NaN, NA, NaT with None\n",
    "        \n",
    "    except Exception as e:\n",
    "        print(f\"Error loading or processing CSV: {e}\")\n",
    "        return\n",
    "\n",
    "    # Connect to MySQL\n",
    "    try:\n",
    "        connection = pymysql.connect(\n",
    "            host=DB_HOST,\n",
    "            user=DB_USER,\n",
    "            password=DB_PASSWORD,\n",
    "            database=DB_NAME\n",
    "        )\n",
    "        cursor = connection.cursor()\n",
    "        print(\"Connected to MySQL database.\")\n",
    "    except pymysql.MySQLError as err:\n",
    "        print(f\"Error connecting to MySQL: {err}\")\n",
    "        return\n",
    "\n",
    "    # Create the table if it doesn't exist\n",
    "    try:\n",
    "        cursor.execute(f\"CREATE DATABASE IF NOT EXISTS {DB_NAME}\")\n",
    "        cursor.execute(f\"USE {DB_NAME}\")\n",
    "        cursor.execute(\"\"\"\n",
    "        CREATE TABLE IF NOT EXISTS Bus_routes (\n",
    "            id INT AUTO_INCREMENT PRIMARY KEY,\n",
    "            route_name TEXT,\n",
    "            route_link TEXT,\n",
    "            busname TEXT,\n",
    "            bustype TEXT,\n",
    "            departing_time TIME,\n",
    "            duration TEXT,\n",
    "            reaching_time TIME,\n",
    "            star_rating FLOAT,\n",
    "            price DECIMAL(10, 2),\n",
    "            seats_available INT,\n",
    "            states TEXT\n",
    "        )\n",
    "        \"\"\")\n",
    "        print(\"Table `bus_routes` created successfully!\")\n",
    "    except pymysql.MySQLError as err:\n",
    "        print(f\"Error creating table: {err}\")\n",
    "        return\n",
    "\n",
    "    # Insert data into the table\n",
    "    try:\n",
    "        for _, row in df.iterrows():\n",
    "            sql = \"\"\"\n",
    "            INSERT INTO Bus_routes (\n",
    "                route_name, route_link, busname, bustype,\n",
    "                departing_time, duration, reaching_time,\n",
    "                star_rating, price, seats_available,states\n",
    "            )\n",
    "            VALUES (%s, %s, %s, %s, %s, %s, %s, %s, %s, %s, %s)\n",
    "            \"\"\"\n",
    "            data = (\n",
    "                row.get('Route_Name', None),\n",
    "                row.get('Route_Link', None),\n",
    "                row.get('BusName', None),\n",
    "                row.get('BusType', None),\n",
    "                row.get('Departing_Time', None),\n",
    "                row.get('Duration', None),\n",
    "                row.get('Reaching_Time', None),\n",
    "                row.get('Star_Rating', None),\n",
    "                row.get('Price', None),\n",
    "                row.get('Seat_Availability', None),\n",
    "                row.get('states', None)\n",
    "            )\n",
    "                       \n",
    "            cursor.execute(sql, data)\n",
    "        connection.commit()\n",
    "        print(f\"Data inserted successfully into `{DB_NAME}.Bus_routes`.\")\n",
    "    except pymysql.MySQLError as err:\n",
    "        print(f\"Error inserting data: {err}\")\n",
    "    finally:\n",
    "        cursor.close()\n",
    "        connection.close()\n",
    "\n",
    "if __name__ == \"__main__\":\n",
    "    load_data_to_mysql()\n"
   ]
  },
  {
   "cell_type": "code",
   "execution_count": 9,
   "id": "52c88cd2-6632-4863-848c-64ce31008c15",
   "metadata": {},
   "outputs": [
    {
     "name": "stdout",
     "output_type": "stream",
     "text": [
      "Connected to MySQL database.\n"
     ]
    }
   ],
   "source": [
    "import pymysql\n",
    "\n",
    "# Define database credentials\n",
    "DB_HOST = 'localhost'\n",
    "DB_USER = 'root'\n",
    "DB_PASSWORD = 'Abcd1234'\n",
    "DB_NAME = 'redbus'\n",
    "\n",
    "try:\n",
    "    connection = pymysql.connect(\n",
    "        host=DB_HOST,  # Use the DB_HOST variable\n",
    "        user=DB_USER,\n",
    "        password=DB_PASSWORD,\n",
    "        database=DB_NAME\n",
    "    )\n",
    "    cursor = connection.cursor()\n",
    "    print(\"Connected to MySQL database.\")\n",
    "except pymysql.MySQLError as err:\n",
    "    print(f\"Error connecting to MySQL: {err}\")\n"
   ]
  },
  {
   "cell_type": "code",
   "execution_count": 13,
   "id": "2305c559-af99-4217-996f-22c7bb854068",
   "metadata": {},
   "outputs": [
    {
     "name": "stdout",
     "output_type": "stream",
     "text": [
      "('id', 'int', 'NO', 'PRI', None, 'auto_increment')\n",
      "('route_name', 'text', 'YES', '', None, '')\n",
      "('route_link', 'text', 'YES', '', None, '')\n",
      "('busname', 'text', 'YES', '', None, '')\n",
      "('bustype', 'text', 'YES', '', None, '')\n",
      "('departing_time', 'time', 'YES', '', None, '')\n",
      "('duration', 'text', 'YES', '', None, '')\n",
      "('reaching_time', 'time', 'YES', '', None, '')\n",
      "('star_rating', 'float', 'YES', '', None, '')\n",
      "('price', 'decimal(10,2)', 'YES', '', None, '')\n",
      "('seats_available', 'int', 'YES', '', None, '')\n",
      "('states', 'text', 'YES', '', None, '')\n"
     ]
    }
   ],
   "source": [
    "cursor.execute(\"DESCRIBE redbus.Bus_routes\")\n",
    "for i in cursor:\n",
    "    print(i)"
   ]
  },
  {
   "cell_type": "code",
   "execution_count": 15,
   "id": "de16bb8d-6320-43e7-8fd8-4e1a16357fa6",
   "metadata": {},
   "outputs": [
    {
     "name": "stdout",
     "output_type": "stream",
     "text": [
      "(1, 'Kakinada to Visakhapatnam', 'https://www.redbus.in/bus-tickets/kakinada-to-visakhapatnam', 'APSRTC - 2538', 'SUPER LUXURY (NON-AC, 2 + 2 PUSH BACK)', datetime.timedelta(seconds=900), '04h 00m', datetime.timedelta(seconds=15300), 3.8, Decimal('281.00'), 34, 'Andhra Pradesh')\n",
      "(2, 'Kakinada to Visakhapatnam', 'https://www.redbus.in/bus-tickets/kakinada-to-visakhapatnam', 'APSRTC - 2837', 'SUPER LUXURY (NON-AC, 2 + 2 PUSH BACK)', datetime.timedelta(seconds=1800), '03h 00m', datetime.timedelta(seconds=12600), 4.6, Decimal('281.00'), 33, 'Andhra Pradesh')\n",
      "(3, 'Kakinada to Visakhapatnam', 'https://www.redbus.in/bus-tickets/kakinada-to-visakhapatnam', 'APSRTC - 23551', 'SUPER LUXURY (NON-AC, 2 + 2 PUSH BACK)', datetime.timedelta(seconds=2700), '04h 00m', datetime.timedelta(seconds=17100), 4.1, Decimal('281.00'), 34, 'Andhra Pradesh')\n",
      "(4, 'Kakinada to Visakhapatnam', 'https://www.redbus.in/bus-tickets/kakinada-to-visakhapatnam', 'APSRTC - 2536', 'INDRA(A.C. Seater)', datetime.timedelta(seconds=4500), '03h 15m', datetime.timedelta(seconds=16200), 3.9, Decimal('340.00'), 36, 'Andhra Pradesh')\n",
      "(5, 'Kakinada to Visakhapatnam', 'https://www.redbus.in/bus-tickets/kakinada-to-visakhapatnam', 'APSRTC - 23537', 'SUPER LUXURY (NON-AC, 2 + 2 PUSH BACK)', datetime.timedelta(seconds=5400), '04h 30m', datetime.timedelta(seconds=21600), 4.0, Decimal('281.00'), 32, 'Andhra Pradesh')\n"
     ]
    }
   ],
   "source": [
    "cursor.execute(\"sELECT * from redbus.Bus_routes limit  5\")\n",
    "for i in cursor:\n",
    "    print(i)"
   ]
  },
  {
   "cell_type": "code",
   "execution_count": 17,
   "id": "7304b42b-a212-4ae6-bc8d-e0fc0fae529b",
   "metadata": {},
   "outputs": [
    {
     "name": "stdout",
     "output_type": "stream",
     "text": [
      "('Kakinada to Visakhapatnam',)\n",
      "('Kakinada to Visakhapatnam',)\n",
      "('Kakinada to Visakhapatnam',)\n",
      "('Kakinada to Visakhapatnam',)\n",
      "('Kakinada to Visakhapatnam',)\n"
     ]
    }
   ],
   "source": [
    "cursor.execute(\"sELECT Route_name from redbus.Bus_routes limit 5\")\n",
    "for i in cursor:\n",
    "    print(i)"
   ]
  },
  {
   "cell_type": "code",
   "execution_count": 19,
   "id": "5069a76b-2744-4eb3-9267-559b5969d007",
   "metadata": {},
   "outputs": [
    {
     "name": "stdout",
     "output_type": "stream",
     "text": [
      "('Chittoor (Andhra Pradesh) to Bangalore', '28h 25m')\n",
      "('Chennai to Tirupati', '27h 30m')\n",
      "('Karimnagar to Hyderabad', '21h 45m')\n",
      "('Delhi to Gorakhpur (uttar pradesh)', '21h 34m')\n",
      "('Agra to Motihari', '19h 45m')\n"
     ]
    }
   ],
   "source": [
    "cursor.execute(\"SELECT Route_Name, Duration FROM redbus.bus_routes ORDER BY Duration DESC LIMIT 5\")\n",
    "for i in cursor:\n",
    "    print(i)"
   ]
  },
  {
   "cell_type": "code",
   "execution_count": 21,
   "id": "8278c0eb-573d-43ac-8839-371980abc25b",
   "metadata": {},
   "outputs": [
    {
     "name": "stdout",
     "output_type": "stream",
     "text": [
      "('Peddapalli (Telangana) to Hyderabad', '0-19h 0-25m')\n",
      "('Karimnagar to Hyderabad', '0-20h 0-29m')\n",
      "('Agra to Motihari', '0-6h 00m')\n",
      "('Kolkata to Ramnagar (West Bengal)', '00h 15m')\n",
      "('Kolkata to Heria', '00h 15m')\n"
     ]
    }
   ],
   "source": [
    "cursor.execute(\"SELECT Route_Name, Duration FROM redbus.bus_routes ORDER BY Duration ASC LIMIT 5\")\n",
    "for i in cursor:\n",
    "    print(i)"
   ]
  },
  {
   "cell_type": "code",
   "execution_count": 23,
   "id": "5b1646b8-b7eb-41ea-8eab-1ad88661dd1c",
   "metadata": {},
   "outputs": [
    {
     "name": "stdout",
     "output_type": "stream",
     "text": [
      "('Kakinada to Visakhapatnam', Decimal('5000.00'))\n",
      "('Chittoor (Andhra Pradesh) to Bangalore', Decimal('1180.00'))\n",
      "('Tirupati to Bangalore', Decimal('900.00'))\n",
      "('Hyderabad to Ongole', Decimal('1200.00'))\n",
      "('Ongole to Hyderabad', Decimal('2000.00'))\n",
      "('Visakhapatnam to Kakinada', Decimal('5000.00'))\n",
      "('Kadiri to Bangalore', Decimal('3999.00'))\n",
      "('Vinukonda to Hyderabad', Decimal('4000.00'))\n",
      "('Bangalore to Kadiri', Decimal('3999.00'))\n",
      "('Hyderabad to Narasaraopet', Decimal('5000.00'))\n"
     ]
    }
   ],
   "source": [
    "cursor.execute(\"SELECT Route_Name, MAX(Price) AS Highest_Price FROM redbus.bus_routes GROUP BY Route_Name limit 10\")\n",
    "for i in cursor:\n",
    "    print(i)"
   ]
  },
  {
   "cell_type": "code",
   "execution_count": null,
   "id": "c6b2a890-6563-44f5-90f1-92dcd4fd33cd",
   "metadata": {},
   "outputs": [],
   "source": []
  }
 ],
 "metadata": {
  "kernelspec": {
   "display_name": "Python 3 (ipykernel)",
   "language": "python",
   "name": "python3"
  },
  "language_info": {
   "codemirror_mode": {
    "name": "ipython",
    "version": 3
   },
   "file_extension": ".py",
   "mimetype": "text/x-python",
   "name": "python",
   "nbconvert_exporter": "python",
   "pygments_lexer": "ipython3",
   "version": "3.12.4"
  }
 },
 "nbformat": 4,
 "nbformat_minor": 5
}
